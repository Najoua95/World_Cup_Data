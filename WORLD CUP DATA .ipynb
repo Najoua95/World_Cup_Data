{
 "cells": [
  {
   "cell_type": "markdown",
   "metadata": {},
   "source": [
    "# CHEF D'OEUVRE - Simplon Datartisan 2018 ###\n",
    "              \n",
    "# ***************************\n",
    "              \n",
    "# WORLD CUP DATA ###"
   ]
  },
  {
   "cell_type": "markdown",
   "metadata": {},
   "source": [
    "## 1/ Conception de la base de données"
   ]
  },
  {
   "cell_type": "markdown",
   "metadata": {},
   "source": [
    "Création du diagramme des classes (UML)"
   ]
  },
  {
   "cell_type": "markdown",
   "metadata": {},
   "source": [
    "Requêtes SQL (DBeaver)"
   ]
  },
  {
   "cell_type": "markdown",
   "metadata": {},
   "source": [
    "Déployement de la base de données sur Google Cloud"
   ]
  },
  {
   "cell_type": "markdown",
   "metadata": {},
   "source": []
  },
  {
   "cell_type": "markdown",
   "metadata": {},
   "source": [
    "## 2/ Acquérir des données"
   ]
  },
  {
   "cell_type": "markdown",
   "metadata": {},
   "source": [
    "### Présentation des scripts Python de Web Scraping - Acquérir des données - Alimenter la base de données"
   ]
  },
  {
   "cell_type": "markdown",
   "metadata": {},
   "source": [
    "Exemple de scripts 1 :  (avec la librairie Selenium)\n",
    "\n",
    "Récolte de données sur le site de L'Equipe \n",
    "\n",
    "-> avoir la liste de tous les joueurs par équipe - Coupe du monde 2018 "
   ]
  },
  {
   "cell_type": "code",
   "execution_count": 18,
   "metadata": {},
   "outputs": [],
   "source": [
    "import lxml\n",
    "import lxml.html\n",
    "from time import sleep\n",
    "from bs4 import BeautifulSoup as bs\n",
    "from selenium import webdriver\n",
    "import csv\n",
    "import requests\n",
    "import numpy as np\n",
    "import pandas as pd\n",
    "import re\n",
    "import random\n",
    "from random import randint"
   ]
  },
  {
   "cell_type": "code",
   "execution_count": 15,
   "metadata": {},
   "outputs": [],
   "source": [
    "#Create an chrome options object\n",
    "chrome_options = webdriver.ChromeOptions()\n",
    "#Create the option to disable notification\n",
    "prefs = {\"profile.default_content_setting_values.notifications\" : 2}\n",
    "#Add this option to my options\n",
    "chrome_options.add_experimental_option(\"prefs\",prefs)\n",
    "#Create a driver with my options\n",
    "driver = webdriver.Chrome(chrome_options=chrome_options)"
   ]
  },
  {
   "cell_type": "code",
   "execution_count": 16,
   "metadata": {},
   "outputs": [],
   "source": [
    "#Store Footballpage url\n",
    "footurl=\"https://www.lequipe.fr/Football/EQ_CM.html\"\n",
    "#Open the homepage on the driver\n",
    "driver.get(footurl)\n",
    "sleep(0.5)"
   ]
  },
  {
   "cell_type": "code",
   "execution_count": null,
   "metadata": {},
   "outputs": [],
   "source": [
    "# Scroll the page to the end\n",
    "for i in range(0,15):\n",
    "    driver.execute_script(\"window.scrollTo(0,999999999999)\")\n",
    "    sleep(0.5)"
   ]
  },
  {
   "cell_type": "code",
   "execution_count": 6,
   "metadata": {},
   "outputs": [],
   "source": [
    "#Get the source code and parse\n",
    "page = driver.page_source\n",
    "soup = bs(page, 'lxml')\n"
   ]
  },
  {
   "cell_type": "code",
   "execution_count": 9,
   "metadata": {},
   "outputs": [],
   "source": [
    "#Find the container with all teams informations\n",
    "wrapper = soup.find('div', {'id': 'Base'})\n",
    "#print(wrapper)"
   ]
  },
  {
   "cell_type": "code",
   "execution_count": 10,
   "metadata": {},
   "outputs": [],
   "source": [
    "# Initialize table to store countries'name & countries'url\n",
    "club_url=[]"
   ]
  },
  {
   "cell_type": "code",
   "execution_count": null,
   "metadata": {},
   "outputs": [],
   "source": [
    "#Collect all \"effectif\" url\n",
    "effectifs = wrapper.find_all('a')\n",
    "for link in effectifs:\n",
    "    link=link.get('href')\n",
    "    if link[len(link)-1] == \"F\": #select the last letter of the url\n",
    "        club_url.append(\"https://www.lequipe.fr/Football/\"+link) #insert teams url into the table(club_url)\n",
    "        print(club_url)"
   ]
  },
  {
   "cell_type": "code",
   "execution_count": null,
   "metadata": {},
   "outputs": [],
   "source": [
    "#parse each url in club_url\n",
    "for url in club_url :\n",
    "    driver.get(url)\n",
    "    sleep(0.5)\n",
    "    driver.find_element_by_css_selector(\"#EFF .seemore\").click() #click on the \"seemore\"\n",
    "    sleep(0.5)\n",
    "    "
   ]
  },
  {
   "cell_type": "code",
   "execution_count": null,
   "metadata": {},
   "outputs": [],
   "source": [
    "for i in range(0,5): #scroll the list (5 times)\n",
    "        driver.execute_script(\"window.scrollTo(0,9999999999999999)\")\n",
    "        sleep(0.5)\n",
    "    page = driver.page_source #get the source_code\n",
    "    soup = bs(page, 'lxml')\n",
    "    wrapper = soup.find('table', {'id': 'club_effectif'})\n",
    "    table = wrapper.find_all(\"tr\")\n",
    "    "
   ]
  },
  {
   "cell_type": "markdown",
   "metadata": {},
   "source": [
    "#Montrer ce qu'il y a dans 'table'\n",
    "table"
   ]
  },
  {
   "cell_type": "markdown",
   "metadata": {},
   "source": [
    "*************************"
   ]
  },
  {
   "cell_type": "code",
   "execution_count": null,
   "metadata": {},
   "outputs": [],
   "source": [
    "for r in table:\n",
    "        playerinfos = [] #initialize a table\n",
    "        td = r.find_all(\"td\", {'class' : 'nom'})\n",
    "        for data in td:\n",
    "            playerinfos.append(data.text) #collect informations\n",
    "        for i in range(0,len(playerinfos)):\n",
    "            writer = open('table_joueurs_2018.csv','a',encoding=\"utf-8\") #write players and their positions in a cvs file\n",
    "            line = playerinfos[i] #line written in the csv file\n",
    "            writer.writelines(line)\n",
    "            if(i==len(playerinfos)-1):\n",
    "                writer.writelines(\"\\r\")"
   ]
  },
  {
   "cell_type": "markdown",
   "metadata": {},
   "source": [
    "*****\n",
    "*****"
   ]
  },
  {
   "cell_type": "markdown",
   "metadata": {},
   "source": [
    "Exemple de scripts 2 : (avec requests)\n",
    "\n",
    "Récolte de données sur le site de L'Equipe \n",
    "\n",
    "-> avoir la liste des rencontres - Coupe du monde 2018"
   ]
  },
  {
   "cell_type": "code",
   "execution_count": null,
   "metadata": {},
   "outputs": [],
   "source": [
    "url = \"https://www.lequipe.fr/Football/Coupe-du-monde/Saison-2010/calendrier-resultats.html\"\n",
    "#url=\"https://www.lequipe.fr/Football/Coupe-du-monde/Saison-2014/calendrier-resultats.html\"\n",
    "#url=\"https://www.lequipe.fr/Football/Coupe-du-monde/Saison-2018/calendrier-resultats.html\"\n",
    "r = requests.get(url)\n",
    "print(r.status_code)\n",
    "soup = bs(r.content)"
   ]
  },
  {
   "cell_type": "code",
   "execution_count": 27,
   "metadata": {},
   "outputs": [],
   "source": [
    "#date = soup.find_all('div', {'class': 'title'})\n",
    "equipe1 = soup.find_all('td', {'class': 'domicile equipe1'})\n",
    "score = soup.find_all('span', {'class' : 'scorematch'})\n",
    "equipe2 = soup.find_all('td', {'class' : 'exterieur rencontre2'})"
   ]
  },
  {
   "cell_type": "code",
   "execution_count": null,
   "metadata": {},
   "outputs": [],
   "source": [
    "#vérifier les éléments figurant dans équipe1\n",
    "for elem in equipe2:\n",
    "    print(elem.text.strip())"
   ]
  },
  {
   "cell_type": "code",
   "execution_count": null,
   "metadata": {},
   "outputs": [],
   "source": [
    "#vérifier les éléments figurant dans score\n",
    "for elem in score:\n",
    "    print(elem.text.strip())"
   ]
  },
  {
   "cell_type": "markdown",
   "metadata": {},
   "source": [
    "****************"
   ]
  },
  {
   "cell_type": "code",
   "execution_count": null,
   "metadata": {},
   "outputs": [],
   "source": [
    "#écrire les informations récoltées sur un fichier csv \n",
    "writer = open('rencontres_2018.csv','a',encoding=\"utf-8\")\n",
    "for i in range(len(equipe1)):\n",
    "    line ='\"'+equipe1[i].text.strip()+'\";\"'+score[i].text.strip()+'\";\"'+equipe2[i].text.strip()+'\"'\n",
    "    writer.writelines(line)\n",
    "    writer.writelines(\"\\r\")"
   ]
  },
  {
   "cell_type": "markdown",
   "metadata": {},
   "source": [
    "## 3/ Intégrer les données"
   ]
  },
  {
   "cell_type": "code",
   "execution_count": null,
   "metadata": {},
   "outputs": [],
   "source": []
  },
  {
   "cell_type": "code",
   "execution_count": null,
   "metadata": {},
   "outputs": [],
   "source": []
  },
  {
   "cell_type": "markdown",
   "metadata": {},
   "source": [
    "## 4/ Maintenir la fiabilité de la Base de données"
   ]
  },
  {
   "cell_type": "markdown",
   "metadata": {},
   "source": [
    "Pour faire en sorte que le fichier soit optimal -> indexer les noms\n",
    "\n",
    "Le but : accéler la lecture des requêtes"
   ]
  },
  {
   "cell_type": "markdown",
   "metadata": {},
   "source": [
    "## 5/ Rechercher des solutions spécifiques"
   ]
  },
  {
   "cell_type": "code",
   "execution_count": null,
   "metadata": {},
   "outputs": [],
   "source": []
  }
 ],
 "metadata": {
  "kernelspec": {
   "display_name": "Python 3",
   "language": "python",
   "name": "python3"
  },
  "language_info": {
   "codemirror_mode": {
    "name": "ipython",
    "version": 3
   },
   "file_extension": ".py",
   "mimetype": "text/x-python",
   "name": "python",
   "nbconvert_exporter": "python",
   "pygments_lexer": "ipython3",
   "version": "3.6.4"
  },
  "varInspector": {
   "cols": {
    "lenName": 16,
    "lenType": 16,
    "lenVar": 40
   },
   "kernels_config": {
    "python": {
     "delete_cmd_postfix": "",
     "delete_cmd_prefix": "del ",
     "library": "var_list.py",
     "varRefreshCmd": "print(var_dic_list())"
    },
    "r": {
     "delete_cmd_postfix": ") ",
     "delete_cmd_prefix": "rm(",
     "library": "var_list.r",
     "varRefreshCmd": "cat(var_dic_list()) "
    }
   },
   "types_to_exclude": [
    "module",
    "function",
    "builtin_function_or_method",
    "instance",
    "_Feature"
   ],
   "window_display": false
  }
 },
 "nbformat": 4,
 "nbformat_minor": 2
}
